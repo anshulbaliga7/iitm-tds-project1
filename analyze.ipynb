{
 "cells": [
  {
   "cell_type": "code",
   "execution_count": 2,
   "metadata": {},
   "outputs": [],
   "source": [
    "import pandas as pd\n",
    "import statsmodels.api as sm"
   ]
  },
  {
   "cell_type": "code",
   "execution_count": 19,
   "metadata": {},
   "outputs": [],
   "source": [
    "users_df = pd.read_csv('users.csv')\n",
    "#repos_df = pd.read_csv('repositories1.csv')"
   ]
  },
  {
   "cell_type": "code",
   "execution_count": 73,
   "metadata": {},
   "outputs": [
    {
     "name": "stdout",
     "output_type": "stream",
     "text": [
      "Ans 1: Top 5 users with the highest number of followers: dennybritz, wasabeef, dai-shi, rui314, domenic\n"
     ]
    }
   ],
   "source": [
    "# 1. Top 5 users in Tokyo with the highest number of followers\n",
    "tokyo_users = users_df[users_df['location'].str.contains('Tokyo', na=False)]\n",
    "top_users_five_tokyo = tokyo_users.sort_values(by='followers', ascending=False).head(5)['login'].tolist()\n",
    "print(\"Ans 1: Top 5 users with the highest number of followers:\", \", \".join(top_users_five_tokyo))"
   ]
  },
  {
   "cell_type": "code",
   "execution_count": 68,
   "metadata": {},
   "outputs": [
    {
     "name": "stdout",
     "output_type": "stream",
     "text": [
      "Ans 2: 5 earliest registered GitHub users: kana, kakutani, mootoh, lhl, walf443\n"
     ]
    }
   ],
   "source": [
    "# 2. 5 earliest registered GitHub users in Tokyo\n",
    "earliest_users_five_tokyo = users_df.sort_values(by='created_at', ascending=True).head(5)['login'].tolist()\n",
    "print(\"Ans 2: 5 earliest registered GitHub users:\", \", \".join(earliest_users_five_tokyo))"
   ]
  },
  {
   "cell_type": "code",
   "execution_count": 54,
   "metadata": {},
   "outputs": [
    {
     "name": "stdout",
     "output_type": "stream",
     "text": [
      "Ans 3 : Top 3 most popular licenses: mit, apache-2.0, other\n"
     ]
    }
   ],
   "source": [
    "# 3. 3 most popular licenses among these users\n",
    "repos_with_license = repos_df[repos_df['license_name'].notnull()]\n",
    "top_3_licenses = repos_with_license['license_name'].value_counts().head(3).index.tolist()\n",
    "print(\"Ans 3 : Top 3 most popular licenses:\", \", \".join(top_3_licenses))"
   ]
  },
  {
   "cell_type": "code",
   "execution_count": 32,
   "metadata": {},
   "outputs": [
    {
     "name": "stdout",
     "output_type": "stream",
     "text": [
      "Majority of these developers work at: GOOGLE\n"
     ]
    }
   ],
   "source": [
    "# 4. Which company do the majority of these developers work at?\n",
    "users_with_company = users_df[users_df['company'].notnull()].copy()  \n",
    "users_with_company.loc[:, 'company'] = users_with_company['company'].str.strip().str.lstrip('@').str.upper()\n",
    "most_common_company = users_with_company['company'].value_counts().idxmax()\n",
    "print(\"Majority of these developers work at:\", most_common_company)"
   ]
  },
  {
   "cell_type": "code",
   "execution_count": 33,
   "metadata": {},
   "outputs": [
    {
     "name": "stdout",
     "output_type": "stream",
     "text": [
      "Ans 5 : Most popular programming language: JavaScript\n"
     ]
    }
   ],
   "source": [
    "# 5. Which programming language is most popular among these users?\n",
    "repos_with_language = repos_df[repos_df['language'].notnull()]\n",
    "most_common_language = repos_with_language['language'].value_counts().idxmax()\n",
    "print(\"Ans 5 : Most popular programming language:\", most_common_language)"
   ]
  },
  {
   "cell_type": "code",
   "execution_count": 71,
   "metadata": {},
   "outputs": [
    {
     "name": "stdout",
     "output_type": "stream",
     "text": [
      "Ans 6 : Second most popular language among users who joined after 2020: Rust\n"
     ]
    }
   ],
   "source": [
    "# 6. Which programming language is the second most popular among users who joined after 2020?\n",
    "users_df['created_at'] = pd.to_datetime(users_df['created_at'], utc=True)  \n",
    "comparison_date = pd.to_datetime('2020-01-01').tz_localize('UTC')\n",
    "users_after_2020 = users_df[users_df['created_at'] > comparison_date]\n",
    "second_most_common_language = repos_df[repos_df['language'].notnull() & repos_df['login'].isin(users_after_2020['login'])]['language'].value_counts().nlargest(2).idxmin()\n",
    "print(\"Ans 6 : Second most popular language among users who joined after 2020:\", second_most_common_language)"
   ]
  },
  {
   "cell_type": "code",
   "execution_count": 35,
   "metadata": {},
   "outputs": [
    {
     "name": "stdout",
     "output_type": "stream",
     "text": [
      "Ans 7 : Language with the highest average number of stars per repository: Assembly\n"
     ]
    }
   ],
   "source": [
    "# 7. Which language has the highest average number of stars per repository?\n",
    "avg_stars_per_language = repos_df.groupby('language')['stargazers_count'].mean().idxmax()\n",
    "print(\"Ans 7 : Language with the highest average number of stars per repository:\", avg_stars_per_language)"
   ]
  },
  {
   "cell_type": "code",
   "execution_count": 36,
   "metadata": {},
   "outputs": [
    {
     "name": "stdout",
     "output_type": "stream",
     "text": [
      "Ans 8 : Top 5 users in terms of leader_strength: blueimp, dai-shi, asahilina, pilcrowonpaper, marcan\n"
     ]
    }
   ],
   "source": [
    "# 8. Define leader_strength as followers / (1 + following). Top 5 in terms of leader_strength\n",
    "users_df['leader_strength'] = users_df['followers'] / (1 + users_df['following'])\n",
    "top_5_leader_strength = users_df.sort_values(by='leader_strength', ascending=False).head(5)['login'].tolist()\n",
    "print(\"Ans 8 : Top 5 users in terms of leader_strength:\", \", \".join(top_5_leader_strength))"
   ]
  },
  {
   "cell_type": "code",
   "execution_count": 37,
   "metadata": {},
   "outputs": [
    {
     "name": "stdout",
     "output_type": "stream",
     "text": [
      "Ans 9 : Correlation between followers and repos: 0.051\n"
     ]
    }
   ],
   "source": [
    "# 9. Correlation between the number of followers and the number of public repositories\n",
    "correlation = users_df['followers'].corr(users_df['public_repos'])\n",
    "print(\"Ans 9 : Correlation between followers and repos:\", round(correlation, 3))"
   ]
  },
  {
   "cell_type": "code",
   "execution_count": 38,
   "metadata": {},
   "outputs": [
    {
     "name": "stdout",
     "output_type": "stream",
     "text": [
      "Ans 10 : Regression slope of followers on repos: 0.282\n"
     ]
    }
   ],
   "source": [
    "# 10. Regression to estimate additional followers per additional public repository\n",
    "X = users_df['public_repos']\n",
    "y = users_df['followers']\n",
    "X = sm.add_constant(X) \n",
    "model = sm.OLS(y, X).fit()\n",
    "slope = model.params.iloc[1] \n",
    "print(\"Ans 10 : Regression slope of followers on repos:\", round(slope, 3))"
   ]
  },
  {
   "cell_type": "code",
   "execution_count": 103,
   "metadata": {},
   "outputs": [
    {
     "name": "stdout",
     "output_type": "stream",
     "text": [
      "0\n",
      "0\n"
     ]
    }
   ],
   "source": [
    "# Check for any missing or NaN values in has_projects or has_wiki\n",
    "print(repos_df['has_projects'].isnull().sum())\n",
    "print(repos_df['has_wiki'].isnull().sum())\n",
    "\n",
    "# Replace any missing values with False (if any exist)\n",
    "repos_df['has_projects'] = repos_df['has_projects'].fillna(False).astype(int)\n",
    "repos_df['has_wiki'] = repos_df['has_wiki'].fillna(False).astype(int)\n"
   ]
  },
  {
   "cell_type": "code",
   "execution_count": 105,
   "metadata": {},
   "outputs": [
    {
     "name": "stdout",
     "output_type": "stream",
     "text": [
      "Ans 11 : Correlation between projects_enabled and wiki_enabled: 0.380\n"
     ]
    }
   ],
   "source": [
    "# Calculate the Pearson correlation after ensuring no missing values\n",
    "correlation_projects_wiki = repos_df['has_projects'].corr(repos_df['has_wiki'], method='pearson')\n",
    "\n",
    "print(f\"Ans 11 : Correlation between projects_enabled and wiki_enabled: {correlation_projects_wiki:.3f}\")\n"
   ]
  },
  {
   "cell_type": "code",
   "execution_count": 8,
   "metadata": {},
   "outputs": [
    {
     "name": "stdout",
     "output_type": "stream",
     "text": [
      "Average following for hireable users: 180.440\n",
      "Average following for non-hireable users: 260.512\n",
      "Ans 12: Average following difference (hireable - non-hireable): -80.073\n"
     ]
    }
   ],
   "source": [
    "# 12. Average following difference for hireable users\n",
    "average_following_hireable = users_df[users_df['hireable'] == True]['following'].mean()\n",
    "average_following_non_hireable = users_df[users_df['hireable'] == False]['following'].mean()\n",
    "following_difference = average_following_hireable - average_following_non_hireable\n",
    "print(f\"Average following for hireable users: {average_following_hireable:.3f}\")\n",
    "print(f\"Average following for non-hireable users: {average_following_non_hireable:.3f}\")\n",
    "print(f\"Ans 12: Average following difference (hireable - non-hireable): {following_difference:.3f}\")"
   ]
  },
  {
   "cell_type": "code",
   "execution_count": 23,
   "metadata": {},
   "outputs": [
    {
     "name": "stdout",
     "output_type": "stream",
     "text": [
      "Regression slope of followers on bio word count: 18.668\n"
     ]
    }
   ],
   "source": [
    "from sklearn.linear_model import LinearRegression\n",
    "\n",
    "# Filter for users with non-empty bios\n",
    "users_with_bio = users_df[(users_df['bio'].notna()) & (users_df['bio'] != '')].copy()\n",
    "\n",
    "# Calculate the word count in the bio (split by whitespace)\n",
    "users_with_bio['bio_word_count'] = users_with_bio['bio'].str.split().str.len()\n",
    "\n",
    "# Define X and y for regression\n",
    "X = users_with_bio['bio_word_count'].values.reshape(-1, 1)  # Predictor variable (bio word count)\n",
    "y = users_with_bio['followers']  # Target variable (followers)\n",
    "\n",
    "# Perform linear regression\n",
    "lr = LinearRegression()\n",
    "lr.fit(X, y)\n",
    "\n",
    "# Output the regression slope (coefficient)\n",
    "print(f\"Regression slope of followers on bio word count: {lr.coef_[0]:.3f}\")\n"
   ]
  },
  {
   "cell_type": "code",
   "execution_count": 42,
   "metadata": {},
   "outputs": [
    {
     "name": "stdout",
     "output_type": "stream",
     "text": [
      "                            OLS Regression Results                            \n",
      "==============================================================================\n",
      "Dep. Variable:              followers   R-squared:                       0.008\n",
      "Model:                            OLS   Adj. R-squared:                  0.005\n",
      "Method:                 Least Squares   F-statistic:                     2.933\n",
      "Date:                Mon, 21 Oct 2024   Prob (F-statistic):             0.0876\n",
      "Time:                        11:36:27   Log-Likelihood:                -3169.4\n",
      "No. Observations:                 380   AIC:                             6343.\n",
      "Df Residuals:                     378   BIC:                             6351.\n",
      "Df Model:                           1                                         \n",
      "Covariance Type:            nonrobust                                         \n",
      "==============================================================================\n",
      "                 coef    std err          t      P>|t|      [0.025      0.975]\n",
      "------------------------------------------------------------------------------\n",
      "const        538.1814     90.541      5.944      0.000     360.155     716.208\n",
      "bio_length     2.1962      1.282      1.713      0.088      -0.325       4.718\n",
      "==============================================================================\n",
      "Omnibus:                      424.460   Durbin-Watson:                   0.045\n",
      "Prob(Omnibus):                  0.000   Jarque-Bera (JB):            19013.781\n",
      "Skew:                           5.108   Prob(JB):                         0.00\n",
      "Kurtosis:                      36.114   Cond. No.                         123.\n",
      "==============================================================================\n",
      "\n",
      "Notes:\n",
      "[1] Standard Errors assume that the covariance matrix of the errors is correctly specified.\n"
     ]
    }
   ],
   "source": [
    "filtered_users_df = users_df.dropna(subset=['followers', 'bio_length'])\n",
    "\n",
    "y = filtered_users_df['followers']\n",
    "X = sm.add_constant(filtered_users_df['bio_length'])\n",
    "\n",
    "bio_model = sm.OLS(y, X).fit()\n",
    "print(bio_model.summary())"
   ]
  },
  {
   "cell_type": "code",
   "execution_count": 21,
   "metadata": {},
   "outputs": [
    {
     "name": "stdout",
     "output_type": "stream",
     "text": [
      "h6ah4i,qnighy,yutkat,syumai,suzuki-shunsuke\n"
     ]
    }
   ],
   "source": [
    "import csv\n",
    "from collections import Counter\n",
    "from datetime import datetime\n",
    "\n",
    "weekend_repo_counts = Counter()\n",
    "\n",
    "with open('repositories.csv', 'r', encoding='utf-8') as file:\n",
    "    reader = csv.DictReader(file)\n",
    "    \n",
    "    for row in reader:\n",
    "        created_at = row.get('created_at', '')\n",
    "        if created_at:\n",
    "            created_date = datetime.fromisoformat(created_at[:-1])  \n",
    "            \n",
    "            if created_date.weekday() in [5, 6]:\n",
    "                user_login = row['login']\n",
    "                weekend_repo_counts[user_login] += 1  \n",
    "\n",
    "top_users = weekend_repo_counts.most_common(5)\n",
    "\n",
    "top_logins = [user[0] for user in top_users]\n",
    "\n",
    "print(','.join(top_logins))"
   ]
  },
  {
   "cell_type": "code",
   "execution_count": 139,
   "metadata": {},
   "outputs": [
    {
     "data": {
      "text/plain": [
       "login\n",
       "h6ah4i             47\n",
       "qnighy             47\n",
       "takahashim         45\n",
       "yutkat             45\n",
       "kevincobain2000    45\n",
       "syumai             45\n",
       "suzuki-shunsuke    45\n",
       "kana               44\n",
       "ubugeeei           43\n",
       "r-plus             42\n",
       "kuy                41\n",
       "ishkawa            41\n",
       "yuk1ty             40\n",
       "magurotuna         40\n",
       "tyoshikawa1106     40\n",
       "nakabonne          39\n",
       "mirakui            39\n",
       "smorimoto          39\n",
       "konn               39\n",
       "walf443            39\n",
       "Name: count, dtype: int64"
      ]
     },
     "execution_count": 139,
     "metadata": {},
     "output_type": "execute_result"
    }
   ],
   "source": [
    "repos_df['created_at'] = pd.to_datetime(repos_df['created_at'])\n",
    "repos_df['day_of_week'] = repos_df['created_at'].dt.dayofweek\n",
    "weekend_repos = repos_df[repos_df['day_of_week'].isin([5, 6])]\n",
    "weekend_repos['login'].value_counts().head(20)"
   ]
  },
  {
   "cell_type": "code",
   "execution_count": 64,
   "metadata": {},
   "outputs": [
    {
     "name": "stdout",
     "output_type": "stream",
     "text": [
      "Fraction of hireable users with email: 0.667\n",
      "Fraction of non-hireable users with email: nan\n",
      "Ans 15 : Difference in email fractions (hireable - non-hireable): nan\n"
     ]
    }
   ],
   "source": [
    "# 15. Difference in email fractions for hireable and non-hireable users\n",
    "fraction_email_hireable = users_df[users_df['hireable'] == True]['email'].notna().mean()\n",
    "fraction_email_non_hireable = users_df[users_df['hireable'] == False]['email'].notna().mean()\n",
    "email_fraction_difference = fraction_email_hireable - fraction_email_non_hireable\n",
    "print(f\"Fraction of hireable users with email: {fraction_email_hireable:.3f}\")\n",
    "print(f\"Fraction of non-hireable users with email: {fraction_email_non_hireable:.3f}\")\n",
    "print(f\"Ans 15 : Difference in email fractions (hireable - non-hireable): {email_fraction_difference:.3f}\")"
   ]
  },
  {
   "cell_type": "code",
   "execution_count": 13,
   "metadata": {},
   "outputs": [
    {
     "name": "stdout",
     "output_type": "stream",
     "text": [
      "Ans 16: Most common surname(s): Kato, Tanaka with 5 users\n"
     ]
    }
   ],
   "source": [
    "# Handle missing names by filling NaN values with an empty string\n",
    "users_df['name'] = users_df['name'].fillna('')\n",
    "\n",
    "# Extract surname (last word of the name)\n",
    "users_df['surname'] = users_df['name'].str.strip().str.split().str[-1]\n",
    "\n",
    "# Count occurrences of each surname\n",
    "common_surnames = users_df['surname'].value_counts()\n",
    "\n",
    "# Get the maximum count of surnames\n",
    "most_common_surname_count = common_surnames.max()\n",
    "\n",
    "# Get all surnames that have the maximum count\n",
    "most_common_surnames = common_surnames[common_surnames == most_common_surname_count].index\n",
    "\n",
    "# Sort the surnames alphabetically if there are ties\n",
    "most_common_surnames = ', '.join(sorted(most_common_surnames))\n",
    "\n",
    "# Print the most common surnames and the count\n",
    "print(f\"Ans 16: Most common surname(s): {most_common_surnames} with {most_common_surname_count} users\")\n"
   ]
  },
  {
   "cell_type": "code",
   "execution_count": 46,
   "metadata": {},
   "outputs": [],
   "source": [
    "import seaborn as sns\n",
    "import matplotlib.pyplot as plt"
   ]
  },
  {
   "cell_type": "code",
   "execution_count": 47,
   "metadata": {},
   "outputs": [
    {
     "data": {
      "image/png": "[encoded data removed]",
      "text/plain": [
       "<Figure size 1000x600 with 1 Axes>"
      ]
     },
     "metadata": {},
     "output_type": "display_data"
    }
   ],
   "source": [
    "users_df = pd.read_csv('users.csv')\n",
    "sns.set(style=\"whitegrid\")\n",
    "\n",
    "# Create a scatter plot\n",
    "plt.figure(figsize=(10, 6))\n",
    "sns.scatterplot(data=users_df, x='public_repos', y='followers', alpha=0.6)\n",
    "\n",
    "# Highlight users with 0 public repositories\n",
    "zero_repos = users_df[users_df['public_repos'] == 0]\n",
    "plt.scatter(zero_repos['public_repos'], zero_repos['followers'], color='red', label='0 Public Repos', alpha=0.7)\n",
    "\n",
    "# Customize the plot\n",
    "plt.title('Followers vs. Public Repositories')\n",
    "plt.xlabel('Number of Public Repositories')\n",
    "plt.ylabel('Number of Followers')\n",
    "plt.axhline(y=0, color='gray', linestyle='--', linewidth=0.7)  # Adding a horizontal line at y=0\n",
    "plt.axvline(x=0, color='gray', linestyle='--', linewidth=0.7)  # Adding a vertical line at x=0\n",
    "plt.legend()\n",
    "plt.grid()\n",
    "\n",
    "# Show the plot\n",
    "plt.tight_layout()\n",
    "plt.savefig('followers_vs_public_repos.png')  # Save the figure\n",
    "plt.show()"
   ]
  }
 ],
 "metadata": {
  "kernelspec": {
   "display_name": "Python 3",
   "language": "python",
   "name": "python3"
  },
  "language_info": {
   "codemirror_mode": {
    "name": "ipython",
    "version": 3
   },
   "file_extension": ".py",
   "mimetype": "text/x-python",
   "name": "python",
   "nbconvert_exporter": "python",
   "pygments_lexer": "ipython3",
   "version": "3.11.0"
  }
 },
 "nbformat": 4,
 "nbformat_minor": 2
}
